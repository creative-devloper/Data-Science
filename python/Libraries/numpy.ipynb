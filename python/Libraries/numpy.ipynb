{
 "cells": [
  {
   "cell_type": "code",
   "execution_count": 1,
   "id": "4eb816be",
   "metadata": {},
   "outputs": [],
   "source": [
    "import numpy as np "
   ]
  },
  {
   "cell_type": "code",
   "execution_count": 2,
   "id": "e24418f4",
   "metadata": {},
   "outputs": [],
   "source": [
    "a1= np.array([1,2,3,4,5])"
   ]
  },
  {
   "cell_type": "code",
   "execution_count": 3,
   "id": "4e1a8a86",
   "metadata": {},
   "outputs": [
    {
     "data": {
      "text/plain": [
       "array([1, 2, 3, 4, 5])"
      ]
     },
     "execution_count": 3,
     "metadata": {},
     "output_type": "execute_result"
    }
   ],
   "source": [
    "a1"
   ]
  },
  {
   "cell_type": "code",
   "execution_count": 4,
   "id": "4800c90e",
   "metadata": {},
   "outputs": [
    {
     "data": {
      "text/plain": [
       "(5,)"
      ]
     },
     "execution_count": 4,
     "metadata": {},
     "output_type": "execute_result"
    }
   ],
   "source": [
    "a1.shape"
   ]
  },
  {
   "cell_type": "code",
   "execution_count": 5,
   "id": "1c7eebe6",
   "metadata": {},
   "outputs": [],
   "source": [
    "a2 = np.array([[1,2,3],\n",
    "                [4,5,6]])"
   ]
  },
  {
   "cell_type": "code",
   "execution_count": 6,
   "id": "7512988f",
   "metadata": {},
   "outputs": [
    {
     "data": {
      "text/plain": [
       "array([[1, 2, 3],\n",
       "       [4, 5, 6]])"
      ]
     },
     "execution_count": 6,
     "metadata": {},
     "output_type": "execute_result"
    }
   ],
   "source": [
    "a2"
   ]
  },
  {
   "cell_type": "code",
   "execution_count": 7,
   "id": "41680830",
   "metadata": {},
   "outputs": [
    {
     "data": {
      "text/plain": [
       "(2, 3)"
      ]
     },
     "execution_count": 7,
     "metadata": {},
     "output_type": "execute_result"
    }
   ],
   "source": [
    "a2.shape"
   ]
  },
  {
   "cell_type": "code",
   "execution_count": 8,
   "id": "3c3661da",
   "metadata": {},
   "outputs": [],
   "source": [
    "n2 = np.array([[1,2,3,4],[6,7,8,9],[10,15,17,18]])"
   ]
  },
  {
   "cell_type": "code",
   "execution_count": 9,
   "id": "5f62cb5f",
   "metadata": {},
   "outputs": [
    {
     "data": {
      "text/plain": [
       "array([[ 1,  2,  3,  4],\n",
       "       [ 6,  7,  8,  9],\n",
       "       [10, 15, 17, 18]])"
      ]
     },
     "execution_count": 9,
     "metadata": {},
     "output_type": "execute_result"
    }
   ],
   "source": [
    "n2"
   ]
  },
  {
   "cell_type": "code",
   "execution_count": 10,
   "id": "4716026f",
   "metadata": {},
   "outputs": [],
   "source": [
    "a3 = np.array([[[1,2,3],[4,5,6]],\n",
    "[[9,10,11],[12,13,14]]])"
   ]
  },
  {
   "cell_type": "code",
   "execution_count": 11,
   "id": "ffeb2455",
   "metadata": {},
   "outputs": [
    {
     "data": {
      "text/plain": [
       "array([[[ 1,  2,  3],\n",
       "        [ 4,  5,  6]],\n",
       "\n",
       "       [[ 9, 10, 11],\n",
       "        [12, 13, 14]]])"
      ]
     },
     "execution_count": 11,
     "metadata": {},
     "output_type": "execute_result"
    }
   ],
   "source": [
    "a3"
   ]
  },
  {
   "cell_type": "code",
   "execution_count": 12,
   "id": "93355cd7",
   "metadata": {},
   "outputs": [
    {
     "data": {
      "text/plain": [
       "(2, 2, 3)"
      ]
     },
     "execution_count": 12,
     "metadata": {},
     "output_type": "execute_result"
    }
   ],
   "source": [
    "a3.shape"
   ]
  },
  {
   "cell_type": "code",
   "execution_count": 13,
   "id": "e4f842a4",
   "metadata": {},
   "outputs": [
    {
     "data": {
      "text/plain": [
       "array([[[ 1,  2],\n",
       "        [ 3,  4],\n",
       "        [11, 12]],\n",
       "\n",
       "       [[ 5,  6],\n",
       "        [ 7,  8],\n",
       "        [13, 14]]])"
      ]
     },
     "execution_count": 13,
     "metadata": {},
     "output_type": "execute_result"
    }
   ],
   "source": [
    "np.array([[[1,2],[3,4],[11,12]],[[5,6],[7,8],[13,14]]])"
   ]
  },
  {
   "cell_type": "code",
   "execution_count": 14,
   "id": "80d6d3fe",
   "metadata": {},
   "outputs": [
    {
     "data": {
      "text/plain": [
       "array([[1, 2, 3],\n",
       "       [4, 5, 6]])"
      ]
     },
     "execution_count": 14,
     "metadata": {},
     "output_type": "execute_result"
    }
   ],
   "source": [
    "a2"
   ]
  },
  {
   "cell_type": "code",
   "execution_count": 15,
   "id": "b7e3f212",
   "metadata": {},
   "outputs": [
    {
     "data": {
      "text/plain": [
       "array([1, 2, 3, 4, 5, 6])"
      ]
     },
     "execution_count": 15,
     "metadata": {},
     "output_type": "execute_result"
    }
   ],
   "source": [
    "a2.ravel()"
   ]
  },
  {
   "cell_type": "code",
   "execution_count": 16,
   "id": "f8a03f77",
   "metadata": {},
   "outputs": [
    {
     "data": {
      "text/plain": [
       "array([ 1,  2,  3,  4,  5,  6,  9, 10, 11, 12, 13, 14])"
      ]
     },
     "execution_count": 16,
     "metadata": {},
     "output_type": "execute_result"
    }
   ],
   "source": [
    "a3.ravel()"
   ]
  },
  {
   "cell_type": "code",
   "execution_count": 17,
   "id": "0267475d",
   "metadata": {},
   "outputs": [
    {
     "data": {
      "text/plain": [
       "array([ 5, 10, 15, 20, 25, 30, 35, 40, 45, 50])"
      ]
     },
     "execution_count": 17,
     "metadata": {},
     "output_type": "execute_result"
    }
   ],
   "source": [
    "np.arange(5,51,5)"
   ]
  },
  {
   "cell_type": "code",
   "execution_count": 18,
   "id": "9403e04f",
   "metadata": {},
   "outputs": [
    {
     "data": {
      "text/plain": [
       "array([ 10,  27,  44,  61,  78,  95, 112, 129, 146])"
      ]
     },
     "execution_count": 18,
     "metadata": {},
     "output_type": "execute_result"
    }
   ],
   "source": [
    "np.arange(10,158,17)"
   ]
  },
  {
   "cell_type": "code",
   "execution_count": 19,
   "id": "edb9d2e8",
   "metadata": {},
   "outputs": [
    {
     "data": {
      "text/plain": [
       "array([[0, 1, 2],\n",
       "       [3, 4, 5]])"
      ]
     },
     "execution_count": 19,
     "metadata": {},
     "output_type": "execute_result"
    }
   ],
   "source": [
    "np.arange(6).reshape(2,3)"
   ]
  },
  {
   "cell_type": "code",
   "execution_count": 20,
   "id": "02c55e08",
   "metadata": {},
   "outputs": [
    {
     "data": {
      "text/plain": [
       "array([[[[ 0],\n",
       "         [ 1],\n",
       "         [ 2]],\n",
       "\n",
       "        [[ 3],\n",
       "         [ 4],\n",
       "         [ 5]],\n",
       "\n",
       "        [[ 6],\n",
       "         [ 7],\n",
       "         [ 8]]],\n",
       "\n",
       "\n",
       "       [[[ 9],\n",
       "         [10],\n",
       "         [11]],\n",
       "\n",
       "        [[12],\n",
       "         [13],\n",
       "         [14]],\n",
       "\n",
       "        [[15],\n",
       "         [16],\n",
       "         [17]]],\n",
       "\n",
       "\n",
       "       [[[18],\n",
       "         [19],\n",
       "         [20]],\n",
       "\n",
       "        [[21],\n",
       "         [22],\n",
       "         [23]],\n",
       "\n",
       "        [[24],\n",
       "         [25],\n",
       "         [26]]]])"
      ]
     },
     "execution_count": 20,
     "metadata": {},
     "output_type": "execute_result"
    }
   ],
   "source": [
    "np.arange(27).reshape(3,3,3,1)"
   ]
  },
  {
   "cell_type": "code",
   "execution_count": 21,
   "id": "b0f114be",
   "metadata": {},
   "outputs": [],
   "source": [
    "\n",
    "r =(np.random.random(12)*100).reshape(3,4)"
   ]
  },
  {
   "cell_type": "code",
   "execution_count": 22,
   "id": "36d19a51",
   "metadata": {},
   "outputs": [
    {
     "data": {
      "text/plain": [
       "array([45, 55, 34, 30, 55, 66])"
      ]
     },
     "execution_count": 22,
     "metadata": {},
     "output_type": "execute_result"
    }
   ],
   "source": [
    "np.random.randint(25,68,6)"
   ]
  },
  {
   "cell_type": "code",
   "execution_count": 23,
   "id": "8075116a",
   "metadata": {},
   "outputs": [
    {
     "data": {
      "text/plain": [
       "array([[61.40082765, 50.19197898, 96.27833704, 13.35592445],\n",
       "       [50.41477149, 50.95151815, 44.25637452,  8.1478835 ],\n",
       "       [95.07070609, 65.80489938, 55.22042011, 30.73748633]])"
      ]
     },
     "execution_count": 23,
     "metadata": {},
     "output_type": "execute_result"
    }
   ],
   "source": [
    "r"
   ]
  },
  {
   "cell_type": "code",
   "execution_count": 24,
   "id": "d7a85abc",
   "metadata": {},
   "outputs": [
    {
     "data": {
      "text/plain": [
       "array([[61., 50., 96., 13.],\n",
       "       [50., 51., 44.,  8.],\n",
       "       [95., 66., 55., 31.]])"
      ]
     },
     "execution_count": 24,
     "metadata": {},
     "output_type": "execute_result"
    }
   ],
   "source": [
    "np.round(r)"
   ]
  },
  {
   "cell_type": "code",
   "execution_count": 25,
   "id": "021a1098",
   "metadata": {},
   "outputs": [
    {
     "data": {
      "text/plain": [
       "array([1, 2, 3, 4, 5])"
      ]
     },
     "execution_count": 25,
     "metadata": {},
     "output_type": "execute_result"
    }
   ],
   "source": [
    "a1"
   ]
  },
  {
   "cell_type": "code",
   "execution_count": 26,
   "id": "58710ee0",
   "metadata": {},
   "outputs": [
    {
     "data": {
      "text/plain": [
       "array([[61.4 , 50.19, 96.28, 13.36],\n",
       "       [50.41, 50.95, 44.26,  8.15],\n",
       "       [95.07, 65.8 , 55.22, 30.74]])"
      ]
     },
     "execution_count": 26,
     "metadata": {},
     "output_type": "execute_result"
    }
   ],
   "source": [
    "np.round(r,2)"
   ]
  },
  {
   "cell_type": "code",
   "execution_count": 27,
   "id": "3e7efe99",
   "metadata": {},
   "outputs": [
    {
     "data": {
      "text/plain": [
       "array([[62., 51., 97., 14.],\n",
       "       [51., 51., 45.,  9.],\n",
       "       [96., 66., 56., 31.]])"
      ]
     },
     "execution_count": 27,
     "metadata": {},
     "output_type": "execute_result"
    }
   ],
   "source": [
    "np.ceil(r)"
   ]
  },
  {
   "cell_type": "code",
   "execution_count": 28,
   "id": "366ac378",
   "metadata": {},
   "outputs": [
    {
     "data": {
      "text/plain": [
       "array([[61., 50., 96., 13.],\n",
       "       [50., 50., 44.,  8.],\n",
       "       [95., 65., 55., 30.]])"
      ]
     },
     "execution_count": 28,
     "metadata": {},
     "output_type": "execute_result"
    }
   ],
   "source": [
    "np.floor(r)"
   ]
  },
  {
   "cell_type": "code",
   "execution_count": 29,
   "id": "cbc79fac",
   "metadata": {},
   "outputs": [],
   "source": [
    "a = np.random.randint(1,100,9)\n",
    "b = np.random.randint(1,100,24).reshape(6,4)\n",
    "c = np.random.randint(1,100,27).reshape(3,3,3)"
   ]
  },
  {
   "cell_type": "code",
   "execution_count": 30,
   "id": "e2bcff74",
   "metadata": {},
   "outputs": [
    {
     "data": {
      "text/plain": [
       "array([ 6, 21, 32, 40, 60, 41, 64, 49, 12])"
      ]
     },
     "execution_count": 30,
     "metadata": {},
     "output_type": "execute_result"
    }
   ],
   "source": [
    "a"
   ]
  },
  {
   "cell_type": "code",
   "execution_count": 31,
   "id": "5324ffed",
   "metadata": {},
   "outputs": [
    {
     "data": {
      "text/plain": [
       "325"
      ]
     },
     "execution_count": 31,
     "metadata": {},
     "output_type": "execute_result"
    }
   ],
   "source": [
    "np.sum(a)"
   ]
  },
  {
   "cell_type": "code",
   "execution_count": 32,
   "id": "b8bd682a",
   "metadata": {},
   "outputs": [
    {
     "data": {
      "text/plain": [
       "1144520704"
      ]
     },
     "execution_count": 32,
     "metadata": {},
     "output_type": "execute_result"
    }
   ],
   "source": [
    "np.prod(a)"
   ]
  },
  {
   "cell_type": "code",
   "execution_count": 33,
   "id": "e2c53538",
   "metadata": {},
   "outputs": [
    {
     "data": {
      "text/plain": [
       "64"
      ]
     },
     "execution_count": 33,
     "metadata": {},
     "output_type": "execute_result"
    }
   ],
   "source": [
    "np.max(a)"
   ]
  },
  {
   "cell_type": "code",
   "execution_count": 34,
   "id": "d0fa93d9",
   "metadata": {},
   "outputs": [
    {
     "data": {
      "text/plain": [
       "6"
      ]
     },
     "execution_count": 34,
     "metadata": {},
     "output_type": "execute_result"
    }
   ],
   "source": [
    "np.min(a)"
   ]
  },
  {
   "cell_type": "code",
   "execution_count": 35,
   "id": "9f06297d",
   "metadata": {},
   "outputs": [
    {
     "data": {
      "text/plain": [
       "36.111111111111114"
      ]
     },
     "execution_count": 35,
     "metadata": {},
     "output_type": "execute_result"
    }
   ],
   "source": [
    "np.mean(a)"
   ]
  },
  {
   "cell_type": "code",
   "execution_count": 36,
   "id": "99cdc598",
   "metadata": {},
   "outputs": [
    {
     "data": {
      "text/plain": [
       "40.0"
      ]
     },
     "execution_count": 36,
     "metadata": {},
     "output_type": "execute_result"
    }
   ],
   "source": [
    "np.median(a)"
   ]
  },
  {
   "cell_type": "code",
   "execution_count": 37,
   "id": "f7da0604",
   "metadata": {},
   "outputs": [
    {
     "data": {
      "text/plain": [
       "array([[42,  8, 13, 33],\n",
       "       [22, 77, 76, 54],\n",
       "       [78, 56, 94, 74],\n",
       "       [23,  6, 28, 87],\n",
       "       [58, 33, 85, 15],\n",
       "       [55, 29, 45, 62]])"
      ]
     },
     "execution_count": 37,
     "metadata": {},
     "output_type": "execute_result"
    }
   ],
   "source": [
    "b"
   ]
  },
  {
   "cell_type": "code",
   "execution_count": 38,
   "id": "e8346629",
   "metadata": {},
   "outputs": [
    {
     "data": {
      "text/plain": [
       "1153"
      ]
     },
     "execution_count": 38,
     "metadata": {},
     "output_type": "execute_result"
    }
   ],
   "source": [
    "np.sum(b)"
   ]
  },
  {
   "cell_type": "code",
   "execution_count": 39,
   "id": "be4b4c19",
   "metadata": {},
   "outputs": [
    {
     "data": {
      "text/plain": [
       "array([ 96, 229, 302, 144, 191, 191])"
      ]
     },
     "execution_count": 39,
     "metadata": {},
     "output_type": "execute_result"
    }
   ],
   "source": [
    "np.sum(b,axis=1) # 1->row"
   ]
  },
  {
   "cell_type": "code",
   "execution_count": 40,
   "id": "8adfb48d",
   "metadata": {},
   "outputs": [
    {
     "data": {
      "text/plain": [
       "array([278, 209, 341, 325])"
      ]
     },
     "execution_count": 40,
     "metadata": {},
     "output_type": "execute_result"
    }
   ],
   "source": [
    "np.sum(b,axis=0) # 0 ->col"
   ]
  },
  {
   "cell_type": "code",
   "execution_count": 41,
   "id": "fc32b6da",
   "metadata": {},
   "outputs": [
    {
     "data": {
      "text/plain": [
       "94"
      ]
     },
     "execution_count": 41,
     "metadata": {},
     "output_type": "execute_result"
    }
   ],
   "source": [
    "np.max(b)"
   ]
  },
  {
   "cell_type": "code",
   "execution_count": 42,
   "id": "71b6d554",
   "metadata": {},
   "outputs": [
    {
     "data": {
      "text/plain": [
       "array([78, 77, 94, 87])"
      ]
     },
     "execution_count": 42,
     "metadata": {},
     "output_type": "execute_result"
    }
   ],
   "source": [
    "np.max(b,axis=0)"
   ]
  },
  {
   "cell_type": "code",
   "execution_count": 43,
   "id": "4e72d6b1",
   "metadata": {},
   "outputs": [
    {
     "data": {
      "text/plain": [
       "array([1, 2, 3, 4, 5])"
      ]
     },
     "execution_count": 43,
     "metadata": {},
     "output_type": "execute_result"
    }
   ],
   "source": [
    "a1"
   ]
  },
  {
   "cell_type": "code",
   "execution_count": 44,
   "id": "9a6e35ca",
   "metadata": {},
   "outputs": [
    {
     "data": {
      "text/plain": [
       "120"
      ]
     },
     "execution_count": 44,
     "metadata": {},
     "output_type": "execute_result"
    }
   ],
   "source": [
    "np.prod(a1)"
   ]
  },
  {
   "cell_type": "markdown",
   "id": "694e49b1",
   "metadata": {},
   "source": [
    "### INDEXING SLICING"
   ]
  },
  {
   "cell_type": "code",
   "execution_count": 45,
   "id": "72f8882d",
   "metadata": {},
   "outputs": [
    {
     "data": {
      "text/plain": [
       "array([ 6, 21, 32, 40, 60, 41, 64, 49, 12])"
      ]
     },
     "execution_count": 45,
     "metadata": {},
     "output_type": "execute_result"
    }
   ],
   "source": [
    "a"
   ]
  },
  {
   "cell_type": "code",
   "execution_count": 46,
   "id": "6db7eb0a",
   "metadata": {},
   "outputs": [
    {
     "data": {
      "text/plain": [
       "array([32, 41, 12])"
      ]
     },
     "execution_count": 46,
     "metadata": {},
     "output_type": "execute_result"
    }
   ],
   "source": [
    "#78,57,4\n",
    "a[2::3]"
   ]
  },
  {
   "cell_type": "code",
   "execution_count": 47,
   "id": "d5231a39",
   "metadata": {},
   "outputs": [
    {
     "data": {
      "text/plain": [
       "60"
      ]
     },
     "execution_count": 47,
     "metadata": {},
     "output_type": "execute_result"
    }
   ],
   "source": [
    "a[4]"
   ]
  },
  {
   "cell_type": "code",
   "execution_count": 48,
   "id": "92b92823",
   "metadata": {},
   "outputs": [
    {
     "data": {
      "text/plain": [
       "64"
      ]
     },
     "execution_count": 48,
     "metadata": {},
     "output_type": "execute_result"
    }
   ],
   "source": [
    "a[6]"
   ]
  },
  {
   "cell_type": "code",
   "execution_count": 49,
   "id": "f32e3160",
   "metadata": {},
   "outputs": [
    {
     "data": {
      "text/plain": [
       "array([32, 60, 64])"
      ]
     },
     "execution_count": 49,
     "metadata": {},
     "output_type": "execute_result"
    }
   ],
   "source": [
    "#78,40,27\n",
    "a[2:7:2]"
   ]
  },
  {
   "cell_type": "code",
   "execution_count": 50,
   "id": "6f021c16",
   "metadata": {},
   "outputs": [
    {
     "data": {
      "text/plain": [
       "array([[42,  8, 13, 33],\n",
       "       [22, 77, 76, 54],\n",
       "       [78, 56, 94, 74],\n",
       "       [23,  6, 28, 87],\n",
       "       [58, 33, 85, 15],\n",
       "       [55, 29, 45, 62]])"
      ]
     },
     "execution_count": 50,
     "metadata": {},
     "output_type": "execute_result"
    }
   ],
   "source": [
    "b"
   ]
  },
  {
   "cell_type": "code",
   "execution_count": 51,
   "id": "dab1788b",
   "metadata": {},
   "outputs": [],
   "source": [
    "# 3,85,59,29\n",
    "# 74,20,18,84\n",
    "# 18,15,54,37\n",
    "# 64,95,33,5\n",
    "# 18,95,59,50\n",
    "# 3,37,54,5\n",
    "# 17,45,30,63\n",
    "# 74,45,64,95,33,5\n",
    "# 18,95,59,50,54,5\n"
   ]
  },
  {
   "cell_type": "code",
   "execution_count": null,
   "id": "bcbe59f1",
   "metadata": {},
   "outputs": [],
   "source": []
  },
  {
   "cell_type": "code",
   "execution_count": 52,
   "id": "c878eec8",
   "metadata": {},
   "outputs": [
    {
     "data": {
      "text/plain": [
       "array([[22, 76],\n",
       "       [78, 94]])"
      ]
     },
     "execution_count": 52,
     "metadata": {},
     "output_type": "execute_result"
    }
   ],
   "source": [
    "# 85, 37,64,95\n",
    "b[1:3,::2]"
   ]
  },
  {
   "cell_type": "code",
   "execution_count": 53,
   "id": "5aa5f22f",
   "metadata": {},
   "outputs": [
    {
     "data": {
      "text/plain": [
       "array([42, 78, 58])"
      ]
     },
     "execution_count": 53,
     "metadata": {},
     "output_type": "execute_result"
    }
   ],
   "source": [
    "# 74,64,33\n",
    "b[::2,0]"
   ]
  },
  {
   "cell_type": "code",
   "execution_count": 54,
   "id": "637329e5",
   "metadata": {},
   "outputs": [
    {
     "data": {
      "text/plain": [
       "array([23, 87])"
      ]
     },
     "execution_count": 54,
     "metadata": {},
     "output_type": "execute_result"
    }
   ],
   "source": [
    "#54,29\n",
    "b[3,::3]"
   ]
  },
  {
   "cell_type": "code",
   "execution_count": 55,
   "id": "780d24ee",
   "metadata": {},
   "outputs": [
    {
     "data": {
      "text/plain": [
       "array([77, 76])"
      ]
     },
     "execution_count": 55,
     "metadata": {},
     "output_type": "execute_result"
    }
   ],
   "source": [
    "# 3,37\n",
    "b[1,1:3]"
   ]
  },
  {
   "cell_type": "code",
   "execution_count": 56,
   "id": "c6981927",
   "metadata": {},
   "outputs": [
    {
     "data": {
      "text/plain": [
       "array([78, 56, 94, 74])"
      ]
     },
     "execution_count": 56,
     "metadata": {},
     "output_type": "execute_result"
    }
   ],
   "source": [
    "b[2]"
   ]
  },
  {
   "cell_type": "code",
   "execution_count": 57,
   "id": "ea7d116c",
   "metadata": {},
   "outputs": [
    {
     "data": {
      "text/plain": [
       "62"
      ]
     },
     "execution_count": 57,
     "metadata": {},
     "output_type": "execute_result"
    }
   ],
   "source": [
    "# 84\n",
    "b[5,3]"
   ]
  },
  {
   "cell_type": "code",
   "execution_count": null,
   "metadata": {},
   "outputs": [],
   "source": []
  },
  {
   "cell_type": "code",
   "execution_count": 58,
   "id": "81486b50",
   "metadata": {},
   "outputs": [
    {
     "data": {
      "text/plain": [
       "85"
      ]
     },
     "execution_count": 58,
     "metadata": {},
     "output_type": "execute_result"
    }
   ],
   "source": [
    "# 5\n",
    "\n",
    "b[4,2]"
   ]
  },
  {
   "cell_type": "code",
   "execution_count": 59,
   "id": "08436816",
   "metadata": {},
   "outputs": [
    {
     "data": {
      "text/plain": [
       "94"
      ]
     },
     "execution_count": 59,
     "metadata": {},
     "output_type": "execute_result"
    }
   ],
   "source": [
    "b[2,2]"
   ]
  },
  {
   "cell_type": "code",
   "execution_count": 60,
   "id": "bc084e57",
   "metadata": {},
   "outputs": [
    {
     "data": {
      "text/plain": [
       "94"
      ]
     },
     "execution_count": 60,
     "metadata": {},
     "output_type": "execute_result"
    }
   ],
   "source": [
    "b[2][2]"
   ]
  },
  {
   "cell_type": "code",
   "execution_count": 61,
   "id": "4d59f8ed",
   "metadata": {},
   "outputs": [
    {
     "data": {
      "text/plain": [
       "array([ 6, 21, 32, 40, 60, 41, 64, 49, 12])"
      ]
     },
     "execution_count": 61,
     "metadata": {},
     "output_type": "execute_result"
    }
   ],
   "source": [
    "a"
   ]
  },
  {
   "cell_type": "code",
   "execution_count": 62,
   "id": "9d0e798a",
   "metadata": {},
   "outputs": [
    {
     "data": {
      "text/plain": [
       "9"
      ]
     },
     "execution_count": 62,
     "metadata": {},
     "output_type": "execute_result"
    }
   ],
   "source": [
    "a.size"
   ]
  },
  {
   "cell_type": "code",
   "execution_count": 63,
   "id": "7c09648f",
   "metadata": {},
   "outputs": [
    {
     "data": {
      "text/plain": [
       "array([[42,  8, 13, 33],\n",
       "       [22, 77, 76, 54],\n",
       "       [78, 56, 94, 74],\n",
       "       [23,  6, 28, 87],\n",
       "       [58, 33, 85, 15],\n",
       "       [55, 29, 45, 62]])"
      ]
     },
     "execution_count": 63,
     "metadata": {},
     "output_type": "execute_result"
    }
   ],
   "source": [
    "b"
   ]
  },
  {
   "cell_type": "code",
   "execution_count": 64,
   "id": "f72a8b19",
   "metadata": {},
   "outputs": [
    {
     "data": {
      "text/plain": [
       "24"
      ]
     },
     "execution_count": 64,
     "metadata": {},
     "output_type": "execute_result"
    }
   ],
   "source": [
    "b.size"
   ]
  },
  {
   "cell_type": "code",
   "execution_count": 65,
   "id": "55cbb383",
   "metadata": {},
   "outputs": [
    {
     "data": {
      "text/plain": [
       "2"
      ]
     },
     "execution_count": 65,
     "metadata": {},
     "output_type": "execute_result"
    }
   ],
   "source": [
    "b.ndim"
   ]
  },
  {
   "cell_type": "code",
   "execution_count": 66,
   "id": "92684a86",
   "metadata": {},
   "outputs": [
    {
     "data": {
      "text/plain": [
       "3"
      ]
     },
     "execution_count": 66,
     "metadata": {},
     "output_type": "execute_result"
    }
   ],
   "source": [
    "c.ndim"
   ]
  },
  {
   "cell_type": "code",
   "execution_count": 67,
   "id": "bc05d665",
   "metadata": {},
   "outputs": [
    {
     "data": {
      "text/plain": [
       "dtype('int32')"
      ]
     },
     "execution_count": 67,
     "metadata": {},
     "output_type": "execute_result"
    }
   ],
   "source": [
    "a.dtype"
   ]
  },
  {
   "cell_type": "code",
   "execution_count": null,
   "id": "43970696",
   "metadata": {},
   "outputs": [
    {
     "data": {
      "text/plain": [
       "array([ 6., 21., 32., 40., 60., 41., 64., 49., 12.], dtype=float32)"
      ]
     },
     "execution_count": 69,
     "metadata": {},
     "output_type": "execute_result"
    }
   ],
   "source": [
    "a.astype('f')"
   ]
  },
  {
   "cell_type": "code",
   "execution_count": 71,
   "id": "0beed965",
   "metadata": {},
   "outputs": [
    {
     "data": {
      "text/plain": [
       "array(['6', '21', '32', '40', '60', '41', '64', '49', '12'], dtype='<U11')"
      ]
     },
     "execution_count": 71,
     "metadata": {},
     "output_type": "execute_result"
    }
   ],
   "source": [
    "a.astype('str')"
   ]
  },
  {
   "cell_type": "code",
   "execution_count": 72,
   "id": "7aaebfee",
   "metadata": {},
   "outputs": [
    {
     "data": {
      "text/plain": [
       "array([0., 0., 0., 0., 0.])"
      ]
     },
     "execution_count": 72,
     "metadata": {},
     "output_type": "execute_result"
    }
   ],
   "source": [
    "np.zeros(5)"
   ]
  },
  {
   "cell_type": "code",
   "execution_count": 74,
   "id": "df3e90a1",
   "metadata": {},
   "outputs": [
    {
     "data": {
      "text/plain": [
       "array([[0, 0, 0],\n",
       "       [0, 0, 0]], dtype=int32)"
      ]
     },
     "execution_count": 74,
     "metadata": {},
     "output_type": "execute_result"
    }
   ],
   "source": [
    "np.zeros((2,3),'i')"
   ]
  },
  {
   "cell_type": "code",
   "execution_count": 75,
   "id": "650badcf",
   "metadata": {},
   "outputs": [
    {
     "data": {
      "text/plain": [
       "array([[1, 1, 1],\n",
       "       [1, 1, 1]], dtype=int32)"
      ]
     },
     "execution_count": 75,
     "metadata": {},
     "output_type": "execute_result"
    }
   ],
   "source": [
    "np.ones((2,3),'i')"
   ]
  },
  {
   "cell_type": "code",
   "execution_count": 77,
   "id": "ebea386a",
   "metadata": {},
   "outputs": [
    {
     "data": {
      "text/plain": [
       "array([[1., 1., 1.],\n",
       "       [1., 1., 1.],\n",
       "       [1., 1., 1.]])"
      ]
     },
     "execution_count": 77,
     "metadata": {},
     "output_type": "execute_result"
    }
   ],
   "source": [
    "np.ones((3,3))"
   ]
  },
  {
   "cell_type": "code",
   "execution_count": 87,
   "id": "93af2a2d",
   "metadata": {},
   "outputs": [
    {
     "data": {
      "text/plain": [
       "array([[1, 0, 0, 0, 0],\n",
       "       [0, 1, 0, 0, 0],\n",
       "       [0, 0, 1, 0, 0],\n",
       "       [0, 0, 0, 1, 0],\n",
       "       [0, 0, 0, 0, 1]], dtype=int32)"
      ]
     },
     "execution_count": 87,
     "metadata": {},
     "output_type": "execute_result"
    }
   ],
   "source": [
    "np.eye(5,5,0,'i')"
   ]
  },
  {
   "cell_type": "code",
   "execution_count": 80,
   "id": "d602480c",
   "metadata": {},
   "outputs": [
    {
     "data": {
      "text/plain": [
       "array([[1, 0, 0, 0, 0],\n",
       "       [0, 1, 0, 0, 0],\n",
       "       [0, 0, 1, 0, 0],\n",
       "       [0, 0, 0, 1, 0],\n",
       "       [0, 0, 0, 0, 1]], dtype=int32)"
      ]
     },
     "execution_count": 80,
     "metadata": {},
     "output_type": "execute_result"
    }
   ],
   "source": [
    "np.identity(5,'i')"
   ]
  },
  {
   "cell_type": "code",
   "execution_count": 88,
   "id": "61f0271d",
   "metadata": {},
   "outputs": [],
   "source": [
    "a = np.arange(5)\n",
    "b = np.arange(5,10)"
   ]
  },
  {
   "cell_type": "code",
   "execution_count": 89,
   "id": "e8d6df06",
   "metadata": {},
   "outputs": [
    {
     "data": {
      "text/plain": [
       "array([0, 1, 2, 3, 4])"
      ]
     },
     "execution_count": 89,
     "metadata": {},
     "output_type": "execute_result"
    }
   ],
   "source": [
    "a"
   ]
  },
  {
   "cell_type": "code",
   "execution_count": 90,
   "id": "4cf94452",
   "metadata": {},
   "outputs": [
    {
     "data": {
      "text/plain": [
       "array([5, 6, 7, 8, 9])"
      ]
     },
     "execution_count": 90,
     "metadata": {},
     "output_type": "execute_result"
    }
   ],
   "source": [
    "b"
   ]
  },
  {
   "cell_type": "code",
   "execution_count": 91,
   "id": "fc99215f",
   "metadata": {},
   "outputs": [
    {
     "data": {
      "text/plain": [
       "array([ 5,  7,  9, 11, 13])"
      ]
     },
     "execution_count": 91,
     "metadata": {},
     "output_type": "execute_result"
    }
   ],
   "source": [
    "a+b"
   ]
  },
  {
   "cell_type": "code",
   "execution_count": 92,
   "id": "16c8995f",
   "metadata": {},
   "outputs": [],
   "source": [
    "a = np.arange(5)\n",
    "b = np.arange(5,15).reshape(2,5)"
   ]
  },
  {
   "cell_type": "code",
   "execution_count": 93,
   "id": "d89de51a",
   "metadata": {},
   "outputs": [
    {
     "data": {
      "text/plain": [
       "(array([0, 1, 2, 3, 4]),\n",
       " array([[ 5,  6,  7,  8,  9],\n",
       "        [10, 11, 12, 13, 14]]))"
      ]
     },
     "execution_count": 93,
     "metadata": {},
     "output_type": "execute_result"
    }
   ],
   "source": [
    "a,b"
   ]
  },
  {
   "cell_type": "code",
   "execution_count": 94,
   "id": "77a68b15",
   "metadata": {},
   "outputs": [
    {
     "data": {
      "text/plain": [
       "array([[ 5,  7,  9, 11, 13],\n",
       "       [10, 12, 14, 16, 18]])"
      ]
     },
     "execution_count": 94,
     "metadata": {},
     "output_type": "execute_result"
    }
   ],
   "source": [
    "a+b"
   ]
  },
  {
   "cell_type": "code",
   "execution_count": null,
   "id": "5bfca90d",
   "metadata": {},
   "outputs": [],
   "source": [
    "a = np.arange(12).reshape(3,4)\n",
    "b = np.arange(1,4)"
   ]
  },
  {
   "cell_type": "code",
   "execution_count": 96,
   "id": "59aa62dc",
   "metadata": {},
   "outputs": [
    {
     "data": {
      "text/plain": [
       "(array([[ 0,  1,  2,  3],\n",
       "        [ 4,  5,  6,  7],\n",
       "        [ 8,  9, 10, 11]]),\n",
       " array([0, 1, 2, 3]))"
      ]
     },
     "execution_count": 96,
     "metadata": {},
     "output_type": "execute_result"
    }
   ],
   "source": [
    "a,b"
   ]
  },
  {
   "cell_type": "code",
   "execution_count": 97,
   "id": "45ba578c",
   "metadata": {},
   "outputs": [
    {
     "data": {
      "text/plain": [
       "array([[ 0,  2,  4,  6],\n",
       "       [ 4,  6,  8, 10],\n",
       "       [ 8, 10, 12, 14]])"
      ]
     },
     "execution_count": 97,
     "metadata": {},
     "output_type": "execute_result"
    }
   ],
   "source": [
    "a+b"
   ]
  },
  {
   "cell_type": "code",
   "execution_count": 98,
   "id": "0e34b927",
   "metadata": {},
   "outputs": [],
   "source": [
    "a = np.arange(3).reshape(1,3)\n",
    "b=  np.arange(3,6).reshape(3,1)"
   ]
  },
  {
   "cell_type": "code",
   "execution_count": 99,
   "id": "5afbf641",
   "metadata": {},
   "outputs": [
    {
     "data": {
      "text/plain": [
       "array([[0, 1, 2]])"
      ]
     },
     "execution_count": 99,
     "metadata": {},
     "output_type": "execute_result"
    }
   ],
   "source": [
    "a"
   ]
  },
  {
   "cell_type": "code",
   "execution_count": 100,
   "id": "a8f29655",
   "metadata": {},
   "outputs": [
    {
     "data": {
      "text/plain": [
       "array([[3],\n",
       "       [4],\n",
       "       [5]])"
      ]
     },
     "execution_count": 100,
     "metadata": {},
     "output_type": "execute_result"
    }
   ],
   "source": [
    "b"
   ]
  },
  {
   "cell_type": "code",
   "execution_count": 101,
   "id": "9791c0af",
   "metadata": {},
   "outputs": [
    {
     "data": {
      "text/plain": [
       "array([[3, 4, 5],\n",
       "       [4, 5, 6],\n",
       "       [5, 6, 7]])"
      ]
     },
     "execution_count": 101,
     "metadata": {},
     "output_type": "execute_result"
    }
   ],
   "source": [
    "a+b"
   ]
  },
  {
   "cell_type": "code",
   "execution_count": 102,
   "id": "e1c485cb",
   "metadata": {},
   "outputs": [],
   "source": [
    "a= np.arange(1)\n",
    "b= np.arange(4).reshape(2,2)"
   ]
  },
  {
   "cell_type": "code",
   "execution_count": 103,
   "id": "fbec672c",
   "metadata": {},
   "outputs": [
    {
     "data": {
      "text/plain": [
       "array([[0, 1],\n",
       "       [2, 3]])"
      ]
     },
     "execution_count": 103,
     "metadata": {},
     "output_type": "execute_result"
    }
   ],
   "source": [
    "a+b"
   ]
  },
  {
   "cell_type": "code",
   "execution_count": 104,
   "id": "6ab3db2d",
   "metadata": {},
   "outputs": [],
   "source": [
    "b= np.arange(16).reshape(4,4)\n",
    "a= np.arange(4).reshape(2,2)"
   ]
  },
  {
   "cell_type": "code",
   "execution_count": 105,
   "id": "d7353f68",
   "metadata": {},
   "outputs": [
    {
     "ename": "ValueError",
     "evalue": "operands could not be broadcast together with shapes (2,2) (4,4) ",
     "output_type": "error",
     "traceback": [
      "\u001b[1;31m---------------------------------------------------------------------------\u001b[0m",
      "\u001b[1;31mValueError\u001b[0m                                Traceback (most recent call last)",
      "Cell \u001b[1;32mIn[105], line 1\u001b[0m\n\u001b[1;32m----> 1\u001b[0m a\u001b[38;5;241m+\u001b[39mb\n",
      "\u001b[1;31mValueError\u001b[0m: operands could not be broadcast together with shapes (2,2) (4,4) "
     ]
    }
   ],
   "source": [
    "a+b"
   ]
  },
  {
   "cell_type": "code",
   "execution_count": 106,
   "id": "0789df30",
   "metadata": {},
   "outputs": [],
   "source": [
    "\n",
    "a= np.arange(4).reshape(1,4)\n",
    "b= np.arange(5,10).reshape(5,1)"
   ]
  },
  {
   "cell_type": "code",
   "execution_count": 107,
   "id": "e6461cee",
   "metadata": {},
   "outputs": [
    {
     "data": {
      "text/plain": [
       "array([[ 5,  6,  7,  8],\n",
       "       [ 6,  7,  8,  9],\n",
       "       [ 7,  8,  9, 10],\n",
       "       [ 8,  9, 10, 11],\n",
       "       [ 9, 10, 11, 12]])"
      ]
     },
     "execution_count": 107,
     "metadata": {},
     "output_type": "execute_result"
    }
   ],
   "source": [
    "a+b"
   ]
  },
  {
   "cell_type": "code",
   "execution_count": 109,
   "id": "762d8a90",
   "metadata": {},
   "outputs": [],
   "source": [
    "b = np.random.randint(1,100,24).reshape(6,4)"
   ]
  },
  {
   "cell_type": "code",
   "execution_count": 111,
   "id": "0a9ee861",
   "metadata": {},
   "outputs": [
    {
     "data": {
      "text/plain": [
       "array([[50, 54, 59,  9],\n",
       "       [78, 59, 67, 65],\n",
       "       [29, 13, 45,  9],\n",
       "       [97, 82, 42, 68],\n",
       "       [96, 87, 87, 85],\n",
       "       [ 2, 27, 55, 92]])"
      ]
     },
     "execution_count": 111,
     "metadata": {},
     "output_type": "execute_result"
    }
   ],
   "source": [
    "b"
   ]
  },
  {
   "cell_type": "code",
   "execution_count": 114,
   "id": "899745af",
   "metadata": {},
   "outputs": [
    {
     "data": {
      "text/plain": [
       "array([59, 45])"
      ]
     },
     "execution_count": 114,
     "metadata": {},
     "output_type": "execute_result"
    }
   ],
   "source": [
    "b[[1,2],[1,2]] # fancy indexing or advanced indexing "
   ]
  },
  {
   "cell_type": "code",
   "execution_count": null,
   "id": "7552a7f1",
   "metadata": {},
   "outputs": [],
   "source": [
    "#boolean indexing "
   ]
  },
  {
   "cell_type": "code",
   "execution_count": 115,
   "id": "f6b967b4",
   "metadata": {},
   "outputs": [],
   "source": [
    "a = np.random.randint(1,100,25)"
   ]
  },
  {
   "cell_type": "code",
   "execution_count": 116,
   "id": "b016384c",
   "metadata": {},
   "outputs": [
    {
     "data": {
      "text/plain": [
       "array([21, 87, 30,  6, 19, 80, 57, 94, 64, 67, 16, 89, 67, 70, 36, 56, 75,\n",
       "       65, 10, 89,  6, 17,  8, 90, 98])"
      ]
     },
     "execution_count": 116,
     "metadata": {},
     "output_type": "execute_result"
    }
   ],
   "source": [
    "a"
   ]
  },
  {
   "cell_type": "code",
   "execution_count": 118,
   "id": "d9fdf975",
   "metadata": {},
   "outputs": [
    {
     "data": {
      "text/plain": [
       "array([87, 80, 57, 94, 64, 67, 89, 67, 70, 56, 75, 65, 89, 90, 98])"
      ]
     },
     "execution_count": 118,
     "metadata": {},
     "output_type": "execute_result"
    }
   ],
   "source": [
    "a[a>50]"
   ]
  },
  {
   "cell_type": "code",
   "execution_count": 119,
   "metadata": {},
   "outputs": [
    {
     "data": {
      "text/plain": [
       "array([30,  6, 80, 94, 64, 16, 70, 36, 56, 10,  6,  8, 90, 98])"
      ]
     },
     "execution_count": 119,
     "metadata": {},
     "output_type": "execute_result"
    }
   ],
   "source": [
    "a[a%2==0]"
   ]
  },
  {
   "cell_type": "code",
   "execution_count": null,
   "metadata": {},
   "outputs": [],
   "source": []
  },
  {
   "cell_type": "code",
   "execution_count": null,
   "metadata": {},
   "outputs": [],
   "source": []
  },
  {
   "cell_type": "code",
   "execution_count": 120,
   "id": "95f545e0",
   "metadata": {},
   "outputs": [],
   "source": [
    "\n",
    "\n",
    "\n",
    "c = np.random.randint(1,100,27).reshape(3,3,3)"
   ]
  },
  {
   "cell_type": "code",
   "execution_count": 121,
   "id": "807ff175",
   "metadata": {},
   "outputs": [
    {
     "data": {
      "text/plain": [
       "array([[[58, 31, 63],\n",
       "        [66, 94, 76],\n",
       "        [46, 62, 22]],\n",
       "\n",
       "       [[85, 19, 19],\n",
       "        [ 8, 12, 62],\n",
       "        [16, 60, 31]],\n",
       "\n",
       "       [[48, 50, 16],\n",
       "        [68, 11, 34],\n",
       "        [43, 72, 36]]])"
      ]
     },
     "execution_count": 121,
     "metadata": {},
     "output_type": "execute_result"
    }
   ],
   "source": [
    "c"
   ]
  },
  {
   "cell_type": "markdown",
   "id": "43f59d93",
   "metadata": {},
   "source": [
    "- 58,63,48,16\n",
    "- 94,76,12,62\n",
    "- 85,19(last one), 48,16\n",
    "- 46,22,43,36\n",
    "- 66,76,46,22,8,63,16,31"
   ]
  },
  {
   "cell_type": "markdown",
   "metadata": {},
   "source": []
  },
  {
   "cell_type": "code",
   "execution_count": null,
   "id": "a825c946",
   "metadata": {},
   "outputs": [],
   "source": []
  },
  {
   "cell_type": "code",
   "execution_count": 127,
   "id": "ea08eef4",
   "metadata": {},
   "outputs": [
    {
     "data": {
      "text/plain": [
       "array([ 8, 62])"
      ]
     },
     "execution_count": 127,
     "metadata": {},
     "output_type": "execute_result"
    }
   ],
   "source": [
    "# 8,\\62\n",
    "c[1,1,::2]"
   ]
  },
  {
   "cell_type": "code",
   "execution_count": 126,
   "id": "b2e43261",
   "metadata": {},
   "outputs": [
    {
     "data": {
      "text/plain": [
       "60"
      ]
     },
     "execution_count": 126,
     "metadata": {},
     "output_type": "execute_result"
    }
   ],
   "source": [
    "# 60\n",
    "c[1,2,1] \n"
   ]
  },
  {
   "cell_type": "code",
   "execution_count": 124,
   "id": "dc21e054",
   "metadata": {},
   "outputs": [
    {
     "data": {
      "text/plain": [
       "34"
      ]
     },
     "execution_count": 124,
     "metadata": {},
     "output_type": "execute_result"
    }
   ],
   "source": [
    "# 34\n",
    "c[2,1,2]"
   ]
  },
  {
   "cell_type": "code",
   "execution_count": 123,
   "id": "a209347c",
   "metadata": {},
   "outputs": [
    {
     "data": {
      "text/plain": [
       "19"
      ]
     },
     "execution_count": 123,
     "metadata": {},
     "output_type": "execute_result"
    }
   ],
   "source": [
    "#19 \n",
    "c[1,0,2]"
   ]
  },
  {
   "cell_type": "code",
   "execution_count": null,
   "id": "5a247838",
   "metadata": {},
   "outputs": [],
   "source": []
  },
  {
   "cell_type": "code",
   "execution_count": 122,
   "id": "e3c4749e",
   "metadata": {},
   "outputs": [
    {
     "data": {
      "text/plain": [
       "12"
      ]
     },
     "execution_count": 122,
     "metadata": {},
     "output_type": "execute_result"
    }
   ],
   "source": [
    "# 12\n",
    "c[1,1,1]"
   ]
  },
  {
   "cell_type": "code",
   "execution_count": null,
   "id": "4f24ace5",
   "metadata": {},
   "outputs": [],
   "source": []
  }
 ],
 "metadata": {
  "kernelspec": {
   "display_name": "base",
   "language": "python",
   "name": "python3"
  },
  "language_info": {
   "codemirror_mode": {
    "name": "ipython",
    "version": 3
   },
   "file_extension": ".py",
   "mimetype": "text/x-python",
   "name": "python",
   "nbconvert_exporter": "python",
   "pygments_lexer": "ipython3",
   "version": "3.12.7"
  }
 },
 "nbformat": 4,
 "nbformat_minor": 5
}
